{
 "cells": [
  {
   "cell_type": "code",
   "execution_count": 81,
   "metadata": {},
   "outputs": [
    {
     "name": "stdout",
     "output_type": "stream",
     "text": [
      "    price  is_expensive\n",
      "0    3500           1.0\n",
      "1    2500           0.0\n",
      "2    2000           0.0\n",
      "3    1500           0.0\n",
      "4    4000           1.0\n",
      "5    5000           1.0\n",
      "6    6000           1.0\n",
      "7    2800           0.0\n",
      "8    3000           1.0\n",
      "9    2300           0.0\n",
      "10   2600           0.0\n",
      "11   6000           1.0\n",
      "12   1000           0.0\n",
      "13    500           0.0\n",
      "14   3100           1.0\n",
      "15   3200           NaN\n",
      "16   2900           NaN\n",
      "17   2450           NaN\n",
      "18   3900           NaN\n",
      "19   2100           NaN\n"
     ]
    }
   ],
   "source": [
    "import pandas as pd\n",
    "import numpy as np\n",
    "\n",
    "houses = pd.read_csv('expensive_houses.csv')\n",
    "print(houses)"
   ]
  },
  {
   "cell_type": "code",
   "execution_count": 82,
   "metadata": {},
   "outputs": [
    {
     "name": "stdout",
     "output_type": "stream",
     "text": [
      "data_to_predict [[ 0.12958854]\n",
      " [-0.08343372]\n",
      " [-0.40296712]\n",
      " [ 0.62664049]\n",
      " [-0.65149309]]\n",
      "X [[ 0.34261081]\n",
      " [-0.36746341]\n",
      " [-0.72250051]\n",
      " [-1.07753762]\n",
      " [ 0.69764791]\n",
      " [ 1.40772213]\n",
      " [ 2.11779634]\n",
      " [-0.15444114]\n",
      " [-0.0124263 ]\n",
      " [-0.50947825]\n",
      " [-0.29645598]\n",
      " [ 2.11779634]\n",
      " [-1.43257472]\n",
      " [-1.78761183]\n",
      " [ 0.05858112]]\n",
      "Y [ 1.  0.  0.  0.  1.  1.  1.  0.  1.  0.  0.  1.  0.  0.  1.]\n"
     ]
    },
    {
     "name": "stderr",
     "output_type": "stream",
     "text": [
      "/usr/local/lib/python3.6/site-packages/sklearn/utils/validation.py:429: DataConversionWarning: Data with input dtype int64 was converted to float64 by the scale function.\n",
      "  warnings.warn(msg, _DataConversionWarning)\n"
     ]
    }
   ],
   "source": [
    "X = np.array(houses['price'])\n",
    "X = X.reshape(-1, 1)\n",
    "X = preprocessing.scale(X)\n",
    "\n",
    "data_to_predict = X[-5:]\n",
    "print(\"data_to_predict\", data_to_predict)\n",
    "X = X[:-5]\n",
    "\n",
    "y = np.array(houses['is_expensive'])[:-5]\n",
    "\n",
    "print(\"X\", X)\n",
    "print(\"Y\", y)"
   ]
  },
  {
   "cell_type": "code",
   "execution_count": 87,
   "metadata": {},
   "outputs": [
    {
     "name": "stdout",
     "output_type": "stream",
     "text": [
      "[ 0.60342625  0.50873125  0.36668875  0.82438124  0.25621125]\n",
      "['expensive', 'expensive', 'cheap', 'expensive', 'cheap']\n"
     ]
    }
   ],
   "source": [
    "from sklearn import cross_validation\n",
    "from sklearn.linear_model import LinearRegression\n",
    "\n",
    "X_train, X_test, y_train, y_test = cross_validation.train_test_split(X, y, test_size=0.2)\n",
    "\n",
    "classifier = LinearRegression()\n",
    "# train\n",
    "classifier.fit(X_train, y_train)\n",
    "# test\n",
    "accuracy = classifier.score(X_test, y_test)\n",
    "# predict\n",
    "result = classifier.predict(data_to_predict)\n",
    "\n",
    "print(result)\n",
    "is_expensive = lambda x: \"expensive\" if x > 0.5 else \"cheap\" \n",
    "print(list(map(is_expensive, result)))"
   ]
  },
  {
   "cell_type": "code",
   "execution_count": null,
   "metadata": {
    "collapsed": true
   },
   "outputs": [],
   "source": []
  },
  {
   "cell_type": "code",
   "execution_count": null,
   "metadata": {
    "collapsed": true
   },
   "outputs": [],
   "source": []
  }
 ],
 "metadata": {
  "kernelspec": {
   "display_name": "Python 3",
   "language": "python",
   "name": "python3"
  },
  "language_info": {
   "codemirror_mode": {
    "name": "ipython",
    "version": 3
   },
   "file_extension": ".py",
   "mimetype": "text/x-python",
   "name": "python",
   "nbconvert_exporter": "python",
   "pygments_lexer": "ipython3",
   "version": "3.6.1"
  }
 },
 "nbformat": 4,
 "nbformat_minor": 2
}
