{
 "cells": [
  {
   "cell_type": "markdown",
   "metadata": {},
   "source": [
    "# Predicting GOOG Stocks\n",
    "\n",
    "## Setup"
   ]
  },
  {
   "cell_type": "code",
   "execution_count": 19,
   "metadata": {},
   "outputs": [],
   "source": [
    "import pandas as pd\n",
    "import quandl as Quandl\n",
    "import math\n",
    "import datetime\n",
    "import numpy as np\n",
    "from sklearn import preprocessing, cross_validation, svm\n",
    "from sklearn.linear_model import LinearRegression\n",
    "import matplotlib.pyplot as plot\n",
    "from matplotlib import style\n",
    "\n",
    "style.use('ggplot')"
   ]
  },
  {
   "cell_type": "markdown",
   "metadata": {},
   "source": [
    "This is the data we have available from Quandl"
   ]
  },
  {
   "cell_type": "code",
   "execution_count": 20,
   "metadata": {},
   "outputs": [
    {
     "name": "stdout",
     "output_type": "stream",
     "text": [
      "                Open       High       Low      Close      Volume  Ex-Dividend  \\\n",
      "Date                                                                            \n",
      "2004-08-19   100.010   104.0600   95.9600   100.3350  44659000.0          0.0   \n",
      "2004-08-20   101.010   109.0800  100.5000   108.3100  22834300.0          0.0   \n",
      "2004-08-23   110.760   113.4800  109.0500   109.4000  18256100.0          0.0   \n",
      "2004-08-24   111.240   111.6000  103.5700   104.8700  15247300.0          0.0   \n",
      "2004-08-25   104.760   108.0000  103.8800   106.0000   9188600.0          0.0   \n",
      "2004-08-26   104.950   107.9500  104.6600   107.9100   7094800.0          0.0   \n",
      "2004-08-27   108.100   108.6200  105.6900   106.1500   6211700.0          0.0   \n",
      "2004-08-30   105.280   105.4900  102.0100   102.0100   5196700.0          0.0   \n",
      "2004-08-31   102.320   103.7100  102.1600   102.3700   4917800.0          0.0   \n",
      "2004-09-01   102.700   102.9700   99.6700   100.2500   9138200.0          0.0   \n",
      "2004-09-02    99.090   102.3700   98.9400   101.5100  15118600.0          0.0   \n",
      "2004-09-03   100.950   101.7400   99.3200   100.0100   5152400.0          0.0   \n",
      "2004-09-07   101.010   102.0000   99.6100   101.5800   5847500.0          0.0   \n",
      "2004-09-08   100.740   103.0300  100.5000   102.3000   4985600.0          0.0   \n",
      "2004-09-09   102.500   102.7100  101.0000   102.3100   4061700.0          0.0   \n",
      "2004-09-10   101.470   106.5600  101.3000   105.3300   8698800.0          0.0   \n",
      "2004-09-13   106.630   108.4100  106.4600   107.5000   7844100.0          0.0   \n",
      "2004-09-14   107.440   112.0000  106.7900   111.4900  10828900.0          0.0   \n",
      "2004-09-15   110.560   114.2300  110.2000   112.0000  10713000.0          0.0   \n",
      "2004-09-16   112.340   115.8000  111.6500   113.9700   9266300.0          0.0   \n",
      "2004-09-17   114.420   117.4900  113.5500   117.4900   9472500.0          0.0   \n",
      "2004-09-20   116.950   121.6000  116.7700   119.3600  10628700.0          0.0   \n",
      "2004-09-21   120.200   120.4200  117.5100   117.8400   7228700.0          0.0   \n",
      "2004-09-22   117.450   119.6700  116.8100   118.3800   7581200.0          0.0   \n",
      "2004-09-23   118.840   122.6300  117.0200   120.8200   8535600.0          0.0   \n",
      "2004-09-24   120.970   124.1000  119.7600   119.8300   9123400.0          0.0   \n",
      "2004-09-27   119.560   120.8800  117.8000   118.2600   7066100.0          0.0   \n",
      "2004-09-28   121.150   127.4000  120.2100   126.8600  16929000.0          0.0   \n",
      "2004-09-29   126.530   135.0200  126.2300   131.0800  30516400.0          0.0   \n",
      "2004-09-30   129.899   132.3000  129.0000   129.6000  13758000.0          0.0   \n",
      "...              ...        ...       ...        ...         ...          ...   \n",
      "2017-06-02   988.590   996.4800  987.0700   996.1200   1719720.0          0.0   \n",
      "2017-06-05   997.890  1007.4000  995.4500  1003.8800   1353264.0          0.0   \n",
      "2017-06-06  1003.310  1008.6100  994.8000   996.6800   1517356.0          0.0   \n",
      "2017-06-07   998.820  1003.9100  995.8100  1001.5900   1348198.0          0.0   \n",
      "2017-06-08  1004.230  1005.6000  996.6200  1004.2800   1657881.0          0.0   \n",
      "2017-06-09  1005.490  1005.5000  953.3700   970.1200   3613964.0          0.0   \n",
      "2017-06-12   958.720   968.0000  936.7950   961.8100   4167184.0          0.0   \n",
      "2017-06-13   972.040   977.9100  962.0100   970.5000   1992456.0          0.0   \n",
      "2017-06-14   975.500   979.7000  959.5103   967.9300   1489046.0          0.0   \n",
      "2017-06-15   948.020   960.6775  940.3700   960.1800   2349212.0          0.0   \n",
      "2017-06-16   957.910   959.9500  948.7000   958.6200   2484914.0          0.0   \n",
      "2017-06-19   969.650   979.3000  968.2000   975.2200   1449343.0          0.0   \n",
      "2017-06-20   975.310   980.7900  968.2000   968.9900   1273013.0          0.0   \n",
      "2017-06-21   970.790   979.6700  969.1600   978.5900   1141315.0          0.0   \n",
      "2017-06-22   976.870   980.5000  973.3148   976.6200    940086.0          0.0   \n",
      "2017-06-23   975.500   986.6200  974.4600   986.0900   1439728.0          0.0   \n",
      "2017-06-26   990.000   993.9900  970.3300   972.0900   1505655.0          0.0   \n",
      "2017-06-27   961.600   967.2200  947.0900   948.0900   2428048.0          0.0   \n",
      "2017-06-28   950.660   963.2400  936.1600   961.0100   2713366.0          0.0   \n",
      "2017-06-29   951.350   951.6600  929.6000   937.8200   3182331.0          0.0   \n",
      "2017-06-30   943.990   944.9995  929.6100   929.6800   2185444.0          0.0   \n",
      "2017-07-03   933.220   934.2400  915.3100   919.4600   1694587.0          0.0   \n",
      "2017-07-05   924.200   936.2900  918.6305   932.2600   2054927.0          0.0   \n",
      "2017-07-06   925.000   936.1400  919.8500   927.6900   1941822.0          0.0   \n",
      "2017-07-07   930.985   944.6600  929.7900   940.8100   1614080.0          0.0   \n",
      "2017-07-10   941.950   953.1300  941.9500   951.0000   1409850.0          0.0   \n",
      "2017-07-11   950.520   954.8900  945.1200   953.5300   1444540.0          0.0   \n",
      "2017-07-12   960.860   969.6300  957.0400   967.6600   1589548.0          0.0   \n",
      "2017-07-13   970.800   978.7000  964.8000   968.7175   1519987.0          0.0   \n",
      "2017-07-14   974.000   977.5400  970.1500   976.9100   1048240.0          0.0   \n",
      "\n",
      "            Split Ratio    Adj. Open    Adj. High    Adj. Low   Adj. Close  \\\n",
      "Date                                                                         \n",
      "2004-08-19          1.0    50.159839    52.191109   48.128568    50.322842   \n",
      "2004-08-20          1.0    50.661387    54.708881   50.405597    54.322689   \n",
      "2004-08-23          1.0    55.551482    56.915693   54.693835    54.869377   \n",
      "2004-08-24          1.0    55.792225    55.972783   51.945350    52.597363   \n",
      "2004-08-25          1.0    52.542193    54.167209   52.100830    53.164113   \n",
      "2004-08-26          1.0    52.637487    54.142132   52.492038    54.122070   \n",
      "2004-08-27          1.0    54.217364    54.478169   53.008633    53.239345   \n",
      "2004-08-30          1.0    52.802998    52.908323   51.162935    51.162935   \n",
      "2004-08-31          1.0    51.318415    52.015567   51.238167    51.343492   \n",
      "2004-09-01          1.0    51.509003    51.644421   49.989312    50.280210   \n",
      "2004-09-02          1.0    49.698414    51.343492   49.623182    50.912161   \n",
      "2004-09-03          1.0    50.631294    51.027517   49.813770    50.159839   \n",
      "2004-09-07          1.0    50.661387    51.157920   49.959219    50.947269   \n",
      "2004-09-08          1.0    50.525969    51.674514   50.405597    51.308384   \n",
      "2004-09-09          1.0    51.408694    51.514019   50.656371    51.313400   \n",
      "2004-09-10          1.0    50.892099    53.444980   50.806836    52.828075   \n",
      "2004-09-13          1.0    53.480088    54.372844   53.394825    53.916435   \n",
      "2004-09-14          1.0    53.886342    56.173402   53.560336    55.917612   \n",
      "2004-09-15          1.0    55.451172    57.291854   55.270615    56.173402   \n",
      "2004-09-16          1.0    56.343928    58.079285   55.997860    57.161452   \n",
      "2004-09-17          1.0    57.387149    58.926902   56.950802    58.926902   \n",
      "2004-09-20          1.0    58.656066    60.988265   58.565787    59.864797   \n",
      "2004-09-21          1.0    60.286097    60.396438   58.936933    59.102444   \n",
      "2004-09-22          1.0    58.906840    60.020277   58.585849    59.373280   \n",
      "2004-09-23          1.0    59.603992    61.504860   58.691174    60.597057   \n",
      "2004-09-24          1.0    60.672290    62.242136   60.065416    60.100525   \n",
      "2004-09-27          1.0    59.965107    60.627150   59.082382    59.313094   \n",
      "2004-09-28          1.0    60.762568    63.897245   60.291113    63.626409   \n",
      "2004-09-29          1.0    63.460898    67.719042   63.310433    65.742942   \n",
      "2004-09-30          1.0    65.150614    66.354831   64.699722    65.000651   \n",
      "...                 ...          ...          ...         ...          ...   \n",
      "2017-06-02          1.0   988.590000   996.480000  987.070000   996.120000   \n",
      "2017-06-05          1.0   997.890000  1007.400000  995.450000  1003.880000   \n",
      "2017-06-06          1.0  1003.310000  1008.610000  994.800000   996.680000   \n",
      "2017-06-07          1.0   998.820000  1003.910000  995.810000  1001.590000   \n",
      "2017-06-08          1.0  1004.230000  1005.600000  996.620000  1004.280000   \n",
      "2017-06-09          1.0  1005.490000  1005.500000  953.370000   970.120000   \n",
      "2017-06-12          1.0   958.720000   968.000000  936.795000   961.810000   \n",
      "2017-06-13          1.0   972.040000   977.910000  962.010000   970.500000   \n",
      "2017-06-14          1.0   975.500000   979.700000  959.510300   967.930000   \n",
      "2017-06-15          1.0   948.020000   960.677500  940.370000   960.180000   \n",
      "2017-06-16          1.0   957.910000   959.950000  948.700000   958.620000   \n",
      "2017-06-19          1.0   969.650000   979.300000  968.200000   975.220000   \n",
      "2017-06-20          1.0   975.310000   980.790000  968.200000   968.990000   \n",
      "2017-06-21          1.0   970.790000   979.670000  969.160000   978.590000   \n",
      "2017-06-22          1.0   976.870000   980.500000  973.314800   976.620000   \n",
      "2017-06-23          1.0   975.500000   986.620000  974.460000   986.090000   \n",
      "2017-06-26          1.0   990.000000   993.990000  970.330000   972.090000   \n",
      "2017-06-27          1.0   961.600000   967.220000  947.090000   948.090000   \n",
      "2017-06-28          1.0   950.660000   963.240000  936.160000   961.010000   \n",
      "2017-06-29          1.0   951.350000   951.660000  929.600000   937.820000   \n",
      "2017-06-30          1.0   943.990000   944.999500  929.610000   929.680000   \n",
      "2017-07-03          1.0   933.220000   934.240000  915.310000   919.460000   \n",
      "2017-07-05          1.0   924.200000   936.290000  918.630500   932.260000   \n",
      "2017-07-06          1.0   925.000000   936.140000  919.850000   927.690000   \n",
      "2017-07-07          1.0   930.985000   944.660000  929.790000   940.810000   \n",
      "2017-07-10          1.0   941.950000   953.130000  941.950000   951.000000   \n",
      "2017-07-11          1.0   950.520000   954.890000  945.120000   953.530000   \n",
      "2017-07-12          1.0   960.860000   969.630000  957.040000   967.660000   \n",
      "2017-07-13          1.0   970.800000   978.700000  964.800000   968.717500   \n",
      "2017-07-14          1.0   974.000000   977.540000  970.150000   976.910000   \n",
      "\n",
      "            Adj. Volume  \n",
      "Date                     \n",
      "2004-08-19   44659000.0  \n",
      "2004-08-20   22834300.0  \n",
      "2004-08-23   18256100.0  \n",
      "2004-08-24   15247300.0  \n",
      "2004-08-25    9188600.0  \n",
      "2004-08-26    7094800.0  \n",
      "2004-08-27    6211700.0  \n",
      "2004-08-30    5196700.0  \n",
      "2004-08-31    4917800.0  \n",
      "2004-09-01    9138200.0  \n",
      "2004-09-02   15118600.0  \n",
      "2004-09-03    5152400.0  \n",
      "2004-09-07    5847500.0  \n",
      "2004-09-08    4985600.0  \n",
      "2004-09-09    4061700.0  \n",
      "2004-09-10    8698800.0  \n",
      "2004-09-13    7844100.0  \n",
      "2004-09-14   10828900.0  \n",
      "2004-09-15   10713000.0  \n",
      "2004-09-16    9266300.0  \n",
      "2004-09-17    9472500.0  \n",
      "2004-09-20   10628700.0  \n",
      "2004-09-21    7228700.0  \n",
      "2004-09-22    7581200.0  \n",
      "2004-09-23    8535600.0  \n",
      "2004-09-24    9123400.0  \n",
      "2004-09-27    7066100.0  \n",
      "2004-09-28   16929000.0  \n",
      "2004-09-29   30516400.0  \n",
      "2004-09-30   13758000.0  \n",
      "...                 ...  \n",
      "2017-06-02    1719720.0  \n",
      "2017-06-05    1353264.0  \n",
      "2017-06-06    1517356.0  \n",
      "2017-06-07    1348198.0  \n",
      "2017-06-08    1657881.0  \n",
      "2017-06-09    3613964.0  \n",
      "2017-06-12    4167184.0  \n",
      "2017-06-13    1992456.0  \n",
      "2017-06-14    1489046.0  \n",
      "2017-06-15    2349212.0  \n",
      "2017-06-16    2484914.0  \n",
      "2017-06-19    1449343.0  \n",
      "2017-06-20    1273013.0  \n",
      "2017-06-21    1141315.0  \n",
      "2017-06-22     940086.0  \n",
      "2017-06-23    1439728.0  \n",
      "2017-06-26    1505655.0  \n",
      "2017-06-27    2428048.0  \n",
      "2017-06-28    2713366.0  \n",
      "2017-06-29    3182331.0  \n",
      "2017-06-30    2185444.0  \n",
      "2017-07-03    1694587.0  \n",
      "2017-07-05    2054927.0  \n",
      "2017-07-06    1941822.0  \n",
      "2017-07-07    1614080.0  \n",
      "2017-07-10    1409850.0  \n",
      "2017-07-11    1444540.0  \n",
      "2017-07-12    1589548.0  \n",
      "2017-07-13    1519987.0  \n",
      "2017-07-14    1048240.0  \n",
      "\n",
      "[3249 rows x 12 columns]\n"
     ]
    }
   ],
   "source": [
    "data = Quandl.get('WIKI/GOOGL')\n",
    "print(data)"
   ]
  },
  {
   "cell_type": "markdown",
   "metadata": {},
   "source": [
    "## Label and Features"
   ]
  },
  {
   "cell_type": "code",
   "execution_count": 21,
   "metadata": {},
   "outputs": [
    {
     "name": "stdout",
     "output_type": "stream",
     "text": [
      "X (features, what we use for prediction) [[-1.49011972  2.30541104  0.23008832  4.37873288]\n",
      " [-1.47178708 -0.32078062  4.77150696  1.7613911 ]\n",
      " [-1.46928143  2.32017124 -0.79165762  1.2123474 ]\n",
      " ..., \n",
      " [ 2.75994809 -0.8975846   0.1748138  -0.84164594]\n",
      " [ 2.82526062 -0.59699709  0.88058113 -0.74300444]\n",
      " [ 2.83172312 -0.6679557   0.10050314 -0.78241141]]\n",
      "y (label, what we want to predict) Adj. Close [  68.75223155   69.63997192   69.0782379  ...,  967.66        968.7175\n",
      "  976.91      ]\n"
     ]
    }
   ],
   "source": [
    "data['High To Low Percentage'] = (\n",
    "    data['Adj. High'] - data['Adj. Close']) / data['Adj. Close'] * 100\n",
    "data['Change Percentage'] = (\n",
    "    data['Adj. Close'] - data['Adj. Open']) / data['Adj. Open'] * 100\n",
    "\n",
    "data = data[[\n",
    "    'Adj. Close', 'High To Low Percentage', 'Change Percentage', 'Adj. Volume'\n",
    "]]\n",
    "\n",
    "forecast_col = 'Adj. Close'\n",
    "\n",
    "# defines that the label is based of 10% of previous Adj. Close prices\n",
    "forecast_range = int(math.ceil(0.01 * len(data)))\n",
    "data['label'] = data[forecast_col].shift(-forecast_range)\n",
    "\n",
    "# X is features, everything but label\n",
    "X = np.array(data.drop(['label'], 1))\n",
    "X = preprocessing.scale(X)\n",
    "# Features for the last n days (like 33 days)\n",
    "X_lately = X[-forecast_range:]\n",
    "# All features but the latest n days (like 33 days)\n",
    "X = X[:-forecast_range]\n",
    "# drop NaNs or else we get an error while trying to run it through the classification algorithm, they will exist because of the previous shift\n",
    "data.dropna(inplace=True)\n",
    "y = np.array(data['label'])\n",
    "\n",
    "print(\"X (features, what we use for prediction)\", X);\n",
    "print(\"y (label, what we want to predict)\", forecast_col, y);"
   ]
  },
  {
   "cell_type": "markdown",
   "metadata": {},
   "source": [
    "## Train, Test and Prediction"
   ]
  },
  {
   "cell_type": "code",
   "execution_count": 22,
   "metadata": {},
   "outputs": [
    {
     "name": "stdout",
     "output_type": "stream",
     "text": [
      "GOOG prices for the next 33 days\n",
      "[ 1012.4828742   1002.63780995  1004.49849312  1012.34560935  1020.03081139\n",
      "  1012.33614131  1017.93905285  1020.72556049   983.54015302   976.59967229\n",
      "   986.08089969   983.42646042   975.79330322   974.47540396   991.0986493\n",
      "   984.52100874   994.8047452    992.87753074  1002.22272442   986.96434138\n",
      "   962.60589055   976.40461996   952.53771778   944.53305297   934.42851253\n",
      "   947.55959566   942.73149835   956.27077404   966.79447794   969.60634539\n",
      "   983.60311368   984.20696134   993.34367297]\n",
      "Accuracy 0.973201359629\n"
     ]
    }
   ],
   "source": [
    "# split data for be used later for training and testing\n",
    "X_train, X_test, y_train, y_test = cross_validation.train_test_split(\n",
    "    X, y, test_size=0.2)\n",
    "\n",
    "# end setup, now to the prediction!\n",
    "\n",
    "classifier = LinearRegression()\n",
    "# train\n",
    "classifier.fit(X_train, y_train)\n",
    "# test\n",
    "accuracy = classifier.score(X_test, y_test)\n",
    "# predict\n",
    "forecast_result = classifier.predict(X_lately)\n",
    "\n",
    "print(\"GOOG prices for the next\", forecast_range, \"days\")\n",
    "print(forecast_result)\n",
    "print(\"Accuracy\", accuracy)"
   ]
  },
  {
   "cell_type": "markdown",
   "metadata": {},
   "source": [
    "## Graphics"
   ]
  },
  {
   "cell_type": "markdown",
   "metadata": {},
   "source": [
    "### Predicted Prices"
   ]
  },
  {
   "cell_type": "code",
   "execution_count": 23,
   "metadata": {},
   "outputs": [
    {
     "data": {
      "image/png": "[encoded data removed]",
      "text/plain": [
       "<matplotlib.figure.Figure at 0x1089374e0>"
      ]
     },
     "metadata": {},
     "output_type": "display_data"
    }
   ],
   "source": [
    "data['Forecast'] = np.nan\n",
    "\n",
    "last_date = data.iloc[-1].name\n",
    "last_unix = last_date.timestamp()\n",
    "one_day = 86400\n",
    "next_unix = last_unix + one_day\n",
    "\n",
    "for i in forecast_result:\n",
    "    next_date = datetime.datetime.fromtimestamp(next_unix)\n",
    "    next_unix += one_day\n",
    "    data.loc[next_date] = [np.nan for _ in range(len(data.columns) - 1)] + [i]\n",
    "\n",
    "prediction_data = data[-forecast_range:]\n",
    "prediction_data['Forecast'].plot()\n",
    "plot.legend(loc=4)\n",
    "plot.xlabel('Date')\n",
    "plot.ylabel('Price')\n",
    "plot.show()"
   ]
  },
  {
   "cell_type": "markdown",
   "metadata": {},
   "source": [
    "### Full Prices History"
   ]
  },
  {
   "cell_type": "code",
   "execution_count": 24,
   "metadata": {},
   "outputs": [
    {
     "data": {
      "image/png": "[encoded data removed]",
      "text/plain": [
       "<matplotlib.figure.Figure at 0x108544b38>"
      ]
     },
     "metadata": {},
     "output_type": "display_data"
    }
   ],
   "source": [
    "data['Adj. Close'].plot()\n",
    "data['Forecast'].plot()\n",
    "plot.legend(loc=4)\n",
    "plot.xlabel('Date')\n",
    "plot.ylabel('Price')\n",
    "plot.show()"
   ]
  }
 ],
 "metadata": {
  "kernelspec": {
   "display_name": "Python 3",
   "language": "python",
   "name": "python3"
  },
  "language_info": {
   "codemirror_mode": {
    "name": "ipython",
    "version": 3
   },
   "file_extension": ".py",
   "mimetype": "text/x-python",
   "name": "python",
   "nbconvert_exporter": "python",
   "pygments_lexer": "ipython3",
   "version": "3.6.1"
  }
 },
 "nbformat": 4,
 "nbformat_minor": 2
}
