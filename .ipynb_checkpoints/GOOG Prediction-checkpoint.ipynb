{
 "cells": [
  {
   "cell_type": "markdown",
   "metadata": {},
   "source": [
    "# Predicting GOOG Stocks\n",
    "\n",
    "## Setup"
   ]
  },
  {
   "cell_type": "code",
   "execution_count": 22,
   "metadata": {},
   "outputs": [],
   "source": [
    "import pandas as pd\n",
    "import quandl as Quandl\n",
    "import math\n",
    "import datetime\n",
    "import numpy as np\n",
    "from sklearn import preprocessing, cross_validation, svm\n",
    "from sklearn.linear_model import LinearRegression\n",
    "import matplotlib.pyplot as plt\n",
    "from matplotlib import style\n",
    "\n",
    "style.use('ggplot')"
   ]
  },
  {
   "cell_type": "markdown",
   "metadata": {},
   "source": [
    "This is the data we have available from Quandl"
   ]
  },
  {
   "cell_type": "code",
   "execution_count": 23,
   "metadata": {},
   "outputs": [
    {
     "name": "stdout",
     "output_type": "stream",
     "text": [
      "              Open    High     Low    Close      Volume  Ex-Dividend  \\\n",
      "Date                                                                   \n",
      "2004-08-19  100.01  104.06   95.96  100.335  44659000.0          0.0   \n",
      "2004-08-20  101.01  109.08  100.50  108.310  22834300.0          0.0   \n",
      "2004-08-23  110.76  113.48  109.05  109.400  18256100.0          0.0   \n",
      "2004-08-24  111.24  111.60  103.57  104.870  15247300.0          0.0   \n",
      "2004-08-25  104.76  108.00  103.88  106.000   9188600.0          0.0   \n",
      "\n",
      "            Split Ratio  Adj. Open  Adj. High   Adj. Low  Adj. Close  \\\n",
      "Date                                                                   \n",
      "2004-08-19          1.0  50.159839  52.191109  48.128568   50.322842   \n",
      "2004-08-20          1.0  50.661387  54.708881  50.405597   54.322689   \n",
      "2004-08-23          1.0  55.551482  56.915693  54.693835   54.869377   \n",
      "2004-08-24          1.0  55.792225  55.972783  51.945350   52.597363   \n",
      "2004-08-25          1.0  52.542193  54.167209  52.100830   53.164113   \n",
      "\n",
      "            Adj. Volume  \n",
      "Date                     \n",
      "2004-08-19   44659000.0  \n",
      "2004-08-20   22834300.0  \n",
      "2004-08-23   18256100.0  \n",
      "2004-08-24   15247300.0  \n",
      "2004-08-25    9188600.0  \n"
     ]
    }
   ],
   "source": [
    "df = Quandl.get('WIKI/GOOGL')\n",
    "print(df.head())"
   ]
  },
  {
   "cell_type": "markdown",
   "metadata": {},
   "source": [
    "## Label and Features"
   ]
  },
  {
   "cell_type": "code",
   "execution_count": 24,
   "metadata": {},
   "outputs": [
    {
     "name": "stdout",
     "output_type": "stream",
     "text": [
      "X (features, what we use for prediction) [[-1.49011972  2.30541104  0.23008832  4.37873288]\n",
      " [-1.47178708 -0.32078062  4.77150696  1.7613911 ]\n",
      " [-1.46928143  2.32017124 -0.79165762  1.2123474 ]\n",
      " ..., \n",
      " [ 2.75994809 -0.8975846   0.1748138  -0.84164594]\n",
      " [ 2.82526062 -0.59699709  0.88058113 -0.74300444]\n",
      " [ 2.83172312 -0.6679557   0.10050314 -0.78241141]]\n",
      "y (label, what we want to predict) Adj. Close [  68.75223155   69.63997192   69.0782379  ...,  967.66        968.7175\n",
      "  976.91      ]\n"
     ]
    }
   ],
   "source": [
    "df = df[['Adj. Open', 'Adj. High', 'Adj. Low', 'Adj. Close', 'Adj. Volume']]\n",
    "df['High To Low Percentage'] = (\n",
    "    df['Adj. High'] - df['Adj. Close']) / df['Adj. Close'] * 100\n",
    "df['Change Percentage'] = (\n",
    "    df['Adj. Close'] - df['Adj. Open']) / df['Adj. Open'] * 100\n",
    "\n",
    "df = df[[\n",
    "    'Adj. Close', 'High To Low Percentage', 'Change Percentage', 'Adj. Volume'\n",
    "]]\n",
    "\n",
    "forecast_col = 'Adj. Close'\n",
    "\n",
    "# defines that the label is based of 10% of previous Adj. Close prices\n",
    "forecast_range = int(math.ceil(0.01 * len(df)))\n",
    "df['label'] = df[forecast_col].shift(-forecast_range)\n",
    "\n",
    "# X is features, everything but label\n",
    "X = np.array(df.drop(['label'], 1))\n",
    "X = preprocessing.scale(X)\n",
    "# Features for the last n days (like 33 days)\n",
    "X_lately = X[-forecast_range:]\n",
    "# All features but the latest n days (like 33 days)\n",
    "X = X[:-forecast_range]\n",
    "# drop NaNs or else we get an error while trying to run it through the classification algorithm, they will exist because of the previous shift\n",
    "df.dropna(inplace=True)\n",
    "y = np.array(df['label'])\n",
    "\n",
    "print(\"X (features, what we use for prediction)\", X);\n",
    "print(\"y (label, what we want to predict)\", forecast_col, y);"
   ]
  },
  {
   "cell_type": "markdown",
   "metadata": {},
   "source": [
    "## Prediction"
   ]
  },
  {
   "cell_type": "code",
   "execution_count": 25,
   "metadata": {},
   "outputs": [
    {
     "name": "stdout",
     "output_type": "stream",
     "text": [
      "GOOG prices for the next 33 days\n",
      "[ 1012.40617448  1002.22688658  1004.43866438  1012.18532241  1019.69830475\n",
      "  1011.86852674  1017.8318253   1020.78559076   982.29673169   976.09772976\n",
      "   985.76633331   983.04203989   975.44473594   974.54320298   990.77017296\n",
      "   984.09187661   994.62818165   992.82786789  1001.94903196   986.19427873\n",
      "   961.85213637   975.97787797   952.18856834   944.15033809   934.10055067\n",
      "   947.14740317   942.20025931   955.80801891   966.50326134   969.63062472\n",
      "   983.39202342   983.73568362   993.41260234]\n",
      "Accuracy 0.973305088044\n"
     ]
    }
   ],
   "source": [
    "# split data for be used later for training and testing\n",
    "X_train, X_test, y_train, y_test = cross_validation.train_test_split(\n",
    "    X, y, test_size=0.2)\n",
    "\n",
    "# end setup, now to the prediction!\n",
    "\n",
    "classifier = LinearRegression()\n",
    "# train\n",
    "classifier.fit(X_train, y_train)\n",
    "# test\n",
    "accuracy = classifier.score(X_test, y_test)\n",
    "# predict\n",
    "forecast_result = classifier.predict(X_lately)\n",
    "\n",
    "print(\"GOOG prices for the next\", forecast_range, \"days\")\n",
    "print(forecast_result)\n",
    "print(\"Accuracy\", accuracy)"
   ]
  },
  {
   "cell_type": "markdown",
   "metadata": {},
   "source": [
    "## Graphics"
   ]
  },
  {
   "cell_type": "code",
   "execution_count": 26,
   "metadata": {},
   "outputs": [
    {
     "data": {
      "image/png": "[encoded data removed]",
      "text/plain": [
       "<matplotlib.figure.Figure at 0x10cc3a860>"
      ]
     },
     "metadata": {},
     "output_type": "display_data"
    }
   ],
   "source": [
    "df['Forecast'] = np.nan\n",
    "\n",
    "last_date = df.iloc[-1].name\n",
    "last_unix = last_date.timestamp()\n",
    "one_day = 86400\n",
    "next_unix = last_unix + one_day\n",
    "\n",
    "for i in forecast_result:\n",
    "    next_date = datetime.datetime.fromtimestamp(next_unix)\n",
    "    next_unix += one_day\n",
    "    df.loc[next_date] = [np.nan for _ in range(len(df.columns) - 1)] + [i]\n",
    "\n",
    "df['Adj. Close'].plot()\n",
    "df['Forecast'].plot()\n",
    "plt.legend(loc=4)\n",
    "plt.xlabel('Date')\n",
    "plt.ylabel('Price')\n",
    "plt.show()"
   ]
  }
 ],
 "metadata": {
  "kernelspec": {
   "display_name": "Python 3",
   "language": "python",
   "name": "python3"
  },
  "language_info": {
   "codemirror_mode": {
    "name": "ipython",
    "version": 3
   },
   "file_extension": ".py",
   "mimetype": "text/x-python",
   "name": "python",
   "nbconvert_exporter": "python",
   "pygments_lexer": "ipython3",
   "version": "3.6.1"
  }
 },
 "nbformat": 4,
 "nbformat_minor": 2
}
